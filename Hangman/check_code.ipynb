{
 "cells": [
  {
   "cell_type": "code",
   "execution_count": null,
   "metadata": {
    "vscode": {
     "languageId": "plaintext"
    }
   },
   "outputs": [],
   "source": [
    "import random\n",
    "\n",
    "word_list = [\"apple\", \"banana\", \"kiwi\", \"strawberry\", \"peach\"]\n",
    "print (word_list)\n",
    "print(random.choice(word_list))\n",
    "\n",
    "word = random.choice(word_list)\n",
    "\n",
    "print (word)\n",
    "\n",
    "print ('Enter a single letter: ')\n",
    "guess = input()\n",
    "\n",
    "while True:\n",
    "    guess = input(\"Enter a single letter: \")\n",
    "    if len(guess) == 1 and isalpha(guess):\n",
    "        print(f'Good guess!')\n",
    "        break\n",
    "    print(\"Oops! That is not a valid input.\\n\")"
   ]
  },
  {
   "cell_type": "code",
   "execution_count": null,
   "metadata": {},
   "outputs": [],
   "source": [
    "while True:\n",
    "    guess = input(\"Enter a single letter: \")\n",
    "    if isalpha(guess):\n",
    "        print(f'Good guess!')\n",
    "        break\n",
    "    print(\"Invalid letter. Please enter a single alphabetical character.\\n\")\n"
   ]
  }
 ],
 "metadata": {
  "language_info": {
   "name": "python"
  }
 },
 "nbformat": 4,
 "nbformat_minor": 2
}
